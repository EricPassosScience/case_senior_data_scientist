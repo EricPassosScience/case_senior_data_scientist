{
 "cells": [
  {
   "cell_type": "markdown",
   "metadata": {},
   "source": [
    "# Modelos\n",
    "- Observações:\n",
    "    - A variável target não segue uma disttribuição normal\n",
    "    - As variáveis possuem outliers\n",
    "    - O correto seria desenvover cada modelo isoladamente, analisando as suas susposições, fazendo alguns tratamento para lidar com a distribuição não normal e assim por diante. Mas levaria muito tempo e acabei optando por utilizar o H2o AutoML."
   ]
  },
  {
   "cell_type": "code",
   "execution_count": 30,
   "metadata": {},
   "outputs": [],
   "source": [
    "# Imports\n",
    "import pandas as pd\n",
    "from sklearn.model_selection import train_test_split\n",
    "from sklearn.preprocessing import StandardScaler\n",
    "import h2o\n",
    "from h2o.automl import H2OAutoML\n",
    "import pickle"
   ]
  },
  {
   "cell_type": "code",
   "execution_count": 31,
   "metadata": {},
   "outputs": [
    {
     "data": {
      "text/html": [
       "<div>\n",
       "<style scoped>\n",
       "    .dataframe tbody tr th:only-of-type {\n",
       "        vertical-align: middle;\n",
       "    }\n",
       "\n",
       "    .dataframe tbody tr th {\n",
       "        vertical-align: top;\n",
       "    }\n",
       "\n",
       "    .dataframe thead th {\n",
       "        text-align: right;\n",
       "    }\n",
       "</style>\n",
       "<table border=\"1\" class=\"dataframe\">\n",
       "  <thead>\n",
       "    <tr style=\"text-align: right;\">\n",
       "      <th></th>\n",
       "      <th>dauReal_daumau</th>\n",
       "      <th>mauReal_daumau</th>\n",
       "      <th>predictionLoss_desinstalacoes</th>\n",
       "      <th>newinstalls_installs</th>\n",
       "      <th>ratings_ratings_reviews</th>\n",
       "      <th>daily_ratings_ratings_reviews</th>\n",
       "      <th>reviews_ratings_reviews</th>\n",
       "      <th>daily_reviews_ratings_reviews</th>\n",
       "      <th>category_BUSINESS</th>\n",
       "      <th>category_FINANCE</th>\n",
       "      <th>category_FOOD_AND_DRINK</th>\n",
       "      <th>category_OTHERS</th>\n",
       "      <th>category_SHOPPING</th>\n",
       "      <th>category_TRAVEL_AND_LOCAL</th>\n",
       "    </tr>\n",
       "  </thead>\n",
       "  <tbody>\n",
       "    <tr>\n",
       "      <th>0</th>\n",
       "      <td>223700.0</td>\n",
       "      <td>1950503.0</td>\n",
       "      <td>30372.0</td>\n",
       "      <td>4064.0</td>\n",
       "      <td>418299.0</td>\n",
       "      <td>210.0</td>\n",
       "      <td>111173.0</td>\n",
       "      <td>88.0</td>\n",
       "      <td>False</td>\n",
       "      <td>True</td>\n",
       "      <td>False</td>\n",
       "      <td>False</td>\n",
       "      <td>False</td>\n",
       "      <td>False</td>\n",
       "    </tr>\n",
       "    <tr>\n",
       "      <th>1</th>\n",
       "      <td>826841.0</td>\n",
       "      <td>2667280.0</td>\n",
       "      <td>30033.0</td>\n",
       "      <td>3038.0</td>\n",
       "      <td>423868.0</td>\n",
       "      <td>37.0</td>\n",
       "      <td>46972.0</td>\n",
       "      <td>27.0</td>\n",
       "      <td>False</td>\n",
       "      <td>True</td>\n",
       "      <td>False</td>\n",
       "      <td>False</td>\n",
       "      <td>False</td>\n",
       "      <td>False</td>\n",
       "    </tr>\n",
       "    <tr>\n",
       "      <th>2</th>\n",
       "      <td>10149.0</td>\n",
       "      <td>77387.0</td>\n",
       "      <td>1569.0</td>\n",
       "      <td>881.0</td>\n",
       "      <td>62744.0</td>\n",
       "      <td>1.0</td>\n",
       "      <td>26406.0</td>\n",
       "      <td>1.0</td>\n",
       "      <td>False</td>\n",
       "      <td>True</td>\n",
       "      <td>False</td>\n",
       "      <td>False</td>\n",
       "      <td>False</td>\n",
       "      <td>False</td>\n",
       "    </tr>\n",
       "    <tr>\n",
       "      <th>3</th>\n",
       "      <td>777969.0</td>\n",
       "      <td>5880590.0</td>\n",
       "      <td>37538.0</td>\n",
       "      <td>24465.0</td>\n",
       "      <td>1242231.0</td>\n",
       "      <td>149.0</td>\n",
       "      <td>584161.0</td>\n",
       "      <td>136.0</td>\n",
       "      <td>False</td>\n",
       "      <td>True</td>\n",
       "      <td>False</td>\n",
       "      <td>False</td>\n",
       "      <td>False</td>\n",
       "      <td>False</td>\n",
       "    </tr>\n",
       "    <tr>\n",
       "      <th>4</th>\n",
       "      <td>11466.0</td>\n",
       "      <td>107133.0</td>\n",
       "      <td>1166.0</td>\n",
       "      <td>966.0</td>\n",
       "      <td>8363.0</td>\n",
       "      <td>0.0</td>\n",
       "      <td>4708.0</td>\n",
       "      <td>0.0</td>\n",
       "      <td>False</td>\n",
       "      <td>True</td>\n",
       "      <td>False</td>\n",
       "      <td>False</td>\n",
       "      <td>False</td>\n",
       "      <td>False</td>\n",
       "    </tr>\n",
       "  </tbody>\n",
       "</table>\n",
       "</div>"
      ],
      "text/plain": [
       "   dauReal_daumau  mauReal_daumau  predictionLoss_desinstalacoes  \\\n",
       "0        223700.0       1950503.0                        30372.0   \n",
       "1        826841.0       2667280.0                        30033.0   \n",
       "2         10149.0         77387.0                         1569.0   \n",
       "3        777969.0       5880590.0                        37538.0   \n",
       "4         11466.0        107133.0                         1166.0   \n",
       "\n",
       "   newinstalls_installs  ratings_ratings_reviews  \\\n",
       "0                4064.0                 418299.0   \n",
       "1                3038.0                 423868.0   \n",
       "2                 881.0                  62744.0   \n",
       "3               24465.0                1242231.0   \n",
       "4                 966.0                   8363.0   \n",
       "\n",
       "   daily_ratings_ratings_reviews  reviews_ratings_reviews  \\\n",
       "0                          210.0                 111173.0   \n",
       "1                           37.0                  46972.0   \n",
       "2                            1.0                  26406.0   \n",
       "3                          149.0                 584161.0   \n",
       "4                            0.0                   4708.0   \n",
       "\n",
       "   daily_reviews_ratings_reviews  category_BUSINESS  category_FINANCE  \\\n",
       "0                           88.0              False              True   \n",
       "1                           27.0              False              True   \n",
       "2                            1.0              False              True   \n",
       "3                          136.0              False              True   \n",
       "4                            0.0              False              True   \n",
       "\n",
       "   category_FOOD_AND_DRINK  category_OTHERS  category_SHOPPING  \\\n",
       "0                    False            False              False   \n",
       "1                    False            False              False   \n",
       "2                    False            False              False   \n",
       "3                    False            False              False   \n",
       "4                    False            False              False   \n",
       "\n",
       "   category_TRAVEL_AND_LOCAL  \n",
       "0                      False  \n",
       "1                      False  \n",
       "2                      False  \n",
       "3                      False  \n",
       "4                      False  "
      ]
     },
     "execution_count": 31,
     "metadata": {},
     "output_type": "execute_result"
    }
   ],
   "source": [
    "# Carrega os dados \n",
    "df = pd.read_csv('/Users/erichenriquedasilvapassos/Downloads/Rank_My_App/data/df_tratado.csv')\n",
    "df.head(5)"
   ]
  },
  {
   "cell_type": "code",
   "execution_count": 32,
   "metadata": {},
   "outputs": [],
   "source": [
    "# Variáveis preditoras\n",
    "colunas = [col for col in df.columns if col != \"dauReal_daumau\"]\n",
    "x = df[colunas]"
   ]
  },
  {
   "cell_type": "code",
   "execution_count": 33,
   "metadata": {},
   "outputs": [],
   "source": [
    "# Variável de saída (Target)\n",
    "y = df['dauReal_daumau']"
   ]
  },
  {
   "cell_type": "code",
   "execution_count": 34,
   "metadata": {},
   "outputs": [],
   "source": [
    "# Divisão em dados de treino e teste\n",
    "x_treino, x_teste, y_treino, y_teste = train_test_split(x, y, test_size = 0.3, random_state = 101)"
   ]
  },
  {
   "cell_type": "code",
   "execution_count": 35,
   "metadata": {},
   "outputs": [
    {
     "data": {
      "text/plain": [
       "(55, 13)"
      ]
     },
     "execution_count": 35,
     "metadata": {},
     "output_type": "execute_result"
    }
   ],
   "source": [
    "x_teste.shape"
   ]
  },
  {
   "cell_type": "code",
   "execution_count": 36,
   "metadata": {},
   "outputs": [],
   "source": [
    "# Criando a instância de uma classe\n",
    "scaler = StandardScaler()\n",
    "\n",
    "# Treina o padronizador com dados de treino\n",
    "scaler.fit(x_treino)\n",
    "\n",
    "# Aplica o padronizador aos dados de treino e de teste\n",
    "x_treino = scaler.transform(x_treino)\n",
    "x_teste = scaler.transform(x_teste)"
   ]
  },
  {
   "cell_type": "code",
   "execution_count": 37,
   "metadata": {},
   "outputs": [
    {
     "name": "stdout",
     "output_type": "stream",
     "text": [
      "Requirement already satisfied: h2o in /Users/erichenriquedasilvapassos/Downloads/Rank_My_App/.venv/lib/python3.12/site-packages (3.46.0.5)\n",
      "Requirement already satisfied: requests in /Users/erichenriquedasilvapassos/Downloads/Rank_My_App/.venv/lib/python3.12/site-packages (from h2o) (2.32.3)\n",
      "Requirement already satisfied: tabulate in /Users/erichenriquedasilvapassos/Downloads/Rank_My_App/.venv/lib/python3.12/site-packages (from h2o) (0.9.0)\n",
      "Requirement already satisfied: charset-normalizer<4,>=2 in /Users/erichenriquedasilvapassos/Downloads/Rank_My_App/.venv/lib/python3.12/site-packages (from requests->h2o) (3.4.0)\n",
      "Requirement already satisfied: idna<4,>=2.5 in /Users/erichenriquedasilvapassos/Downloads/Rank_My_App/.venv/lib/python3.12/site-packages (from requests->h2o) (3.10)\n",
      "Requirement already satisfied: urllib3<3,>=1.21.1 in /Users/erichenriquedasilvapassos/Downloads/Rank_My_App/.venv/lib/python3.12/site-packages (from requests->h2o) (2.2.3)\n",
      "Requirement already satisfied: certifi>=2017.4.17 in /Users/erichenriquedasilvapassos/Downloads/Rank_My_App/.venv/lib/python3.12/site-packages (from requests->h2o) (2024.8.30)\n",
      "\n",
      "\u001b[1m[\u001b[0m\u001b[34;49mnotice\u001b[0m\u001b[1;39;49m]\u001b[0m\u001b[39;49m A new release of pip is available: \u001b[0m\u001b[31;49m24.0\u001b[0m\u001b[39;49m -> \u001b[0m\u001b[32;49m24.2\u001b[0m\n",
      "\u001b[1m[\u001b[0m\u001b[34;49mnotice\u001b[0m\u001b[1;39;49m]\u001b[0m\u001b[39;49m To update, run: \u001b[0m\u001b[32;49mpip install --upgrade pip\u001b[0m\n"
     ]
    }
   ],
   "source": [
    "!pip install h2o\n"
   ]
  },
  {
   "cell_type": "code",
   "execution_count": 38,
   "metadata": {},
   "outputs": [
    {
     "name": "stdout",
     "output_type": "stream",
     "text": [
      "Checking whether there is an H2O instance running at http://localhost:54321. connected.\n"
     ]
    },
    {
     "data": {
      "text/html": [
       "\n",
       "<style>\n",
       "\n",
       "#h2o-table-3.h2o-container {\n",
       "  overflow-x: auto;\n",
       "}\n",
       "#h2o-table-3 .h2o-table {\n",
       "  /* width: 100%; */\n",
       "  margin-top: 1em;\n",
       "  margin-bottom: 1em;\n",
       "}\n",
       "#h2o-table-3 .h2o-table caption {\n",
       "  white-space: nowrap;\n",
       "  caption-side: top;\n",
       "  text-align: left;\n",
       "  /* margin-left: 1em; */\n",
       "  margin: 0;\n",
       "  font-size: larger;\n",
       "}\n",
       "#h2o-table-3 .h2o-table thead {\n",
       "  white-space: nowrap; \n",
       "  position: sticky;\n",
       "  top: 0;\n",
       "  box-shadow: 0 -1px inset;\n",
       "}\n",
       "#h2o-table-3 .h2o-table tbody {\n",
       "  overflow: auto;\n",
       "}\n",
       "#h2o-table-3 .h2o-table th,\n",
       "#h2o-table-3 .h2o-table td {\n",
       "  text-align: right;\n",
       "  /* border: 1px solid; */\n",
       "}\n",
       "#h2o-table-3 .h2o-table tr:nth-child(even) {\n",
       "  /* background: #F5F5F5 */\n",
       "}\n",
       "\n",
       "</style>      \n",
       "<div id=\"h2o-table-3\" class=\"h2o-container\">\n",
       "  <table class=\"h2o-table\">\n",
       "    <caption></caption>\n",
       "    <thead></thead>\n",
       "    <tbody><tr><td>H2O_cluster_uptime:</td>\n",
       "<td>1 hour 0 mins</td></tr>\n",
       "<tr><td>H2O_cluster_timezone:</td>\n",
       "<td>America/Sao_Paulo</td></tr>\n",
       "<tr><td>H2O_data_parsing_timezone:</td>\n",
       "<td>UTC</td></tr>\n",
       "<tr><td>H2O_cluster_version:</td>\n",
       "<td>3.46.0.5</td></tr>\n",
       "<tr><td>H2O_cluster_version_age:</td>\n",
       "<td>1 month and 25 days</td></tr>\n",
       "<tr><td>H2O_cluster_name:</td>\n",
       "<td>H2O_from_python_erichenriquedasilvapassos_uripqv</td></tr>\n",
       "<tr><td>H2O_cluster_total_nodes:</td>\n",
       "<td>1</td></tr>\n",
       "<tr><td>H2O_cluster_free_memory:</td>\n",
       "<td>1.948 Gb</td></tr>\n",
       "<tr><td>H2O_cluster_total_cores:</td>\n",
       "<td>8</td></tr>\n",
       "<tr><td>H2O_cluster_allowed_cores:</td>\n",
       "<td>8</td></tr>\n",
       "<tr><td>H2O_cluster_status:</td>\n",
       "<td>locked, healthy</td></tr>\n",
       "<tr><td>H2O_connection_url:</td>\n",
       "<td>http://localhost:54321</td></tr>\n",
       "<tr><td>H2O_connection_proxy:</td>\n",
       "<td>{\"http\": null, \"https\": null}</td></tr>\n",
       "<tr><td>H2O_internal_security:</td>\n",
       "<td>False</td></tr>\n",
       "<tr><td>Python_version:</td>\n",
       "<td>3.12.4 final</td></tr></tbody>\n",
       "  </table>\n",
       "</div>\n"
      ],
      "text/plain": [
       "--------------------------  ------------------------------------------------\n",
       "H2O_cluster_uptime:         1 hour 0 mins\n",
       "H2O_cluster_timezone:       America/Sao_Paulo\n",
       "H2O_data_parsing_timezone:  UTC\n",
       "H2O_cluster_version:        3.46.0.5\n",
       "H2O_cluster_version_age:    1 month and 25 days\n",
       "H2O_cluster_name:           H2O_from_python_erichenriquedasilvapassos_uripqv\n",
       "H2O_cluster_total_nodes:    1\n",
       "H2O_cluster_free_memory:    1.948 Gb\n",
       "H2O_cluster_total_cores:    8\n",
       "H2O_cluster_allowed_cores:  8\n",
       "H2O_cluster_status:         locked, healthy\n",
       "H2O_connection_url:         http://localhost:54321\n",
       "H2O_connection_proxy:       {\"http\": null, \"https\": null}\n",
       "H2O_internal_security:      False\n",
       "Python_version:             3.12.4 final\n",
       "--------------------------  ------------------------------------------------"
      ]
     },
     "metadata": {},
     "output_type": "display_data"
    },
    {
     "name": "stdout",
     "output_type": "stream",
     "text": [
      "Parse progress: |████████████████████████████████████████████████████████████████| (done) 100%\n",
      "Parse progress: |████████████████████████████████████████████████████████████████| (done) 100%\n",
      "AutoML progress: |\n",
      "08:47:05.72: AutoML: XGBoost is not available; skipping it.\n",
      "08:47:05.240: _min_rows param, The dataset size is too small to split for min_rows=100.0: must have at least 200.0 (weighted) rows, but have only 165.0.\n",
      "\n",
      "███████████████████████████████████████████████████████████████| (done) 100%\n",
      "gbm prediction progress: |███████████████████████████████████████████████████████| (done) 100%\n",
      "ModelMetricsRegression: gbm\n",
      "** Reported on test data. **\n",
      "\n",
      "MSE: 593217235513.1934\n",
      "RMSE: 770205.9695387938\n",
      "MAE: 491427.1411652842\n",
      "RMSLE: 3.5134098709923376\n",
      "Mean Residual Deviance: 593217235513.1934\n"
     ]
    }
   ],
   "source": [
    "# Inicializa o H2O\n",
    "h2o.init()\n",
    "\n",
    "# Cria DataFrames pandas para o H2O\n",
    "x_treino_df = pd.DataFrame(x_treino, columns=x.columns)\n",
    "y_treino_df = pd.DataFrame(y_treino, columns=[y.name])  # y.name é o nome da coluna alvo\n",
    "train_df = pd.concat([x_treino_df, y_treino_df], axis=1)\n",
    "\n",
    "x_teste_df = pd.DataFrame(x_teste, columns=x.columns)\n",
    "y_teste_df = pd.DataFrame(y_teste, columns=[y.name])  # y.name é o nome da coluna alvo\n",
    "test_df = pd.concat([x_teste_df, y_teste_df], axis=1)\n",
    "\n",
    "# Transforma os DataFrames do pandas para H2O Frames\n",
    "train_h2o = h2o.H2OFrame(train_df)\n",
    "test_h2o = h2o.H2OFrame(test_df)\n",
    "\n",
    "# Define a coluna alvo e as features\n",
    "target = y.name\n",
    "features = x.columns.tolist()\n",
    "\n",
    "# Configura e treina o AutoML\n",
    "aml = H2OAutoML(max_models=15, seed=1)\n",
    "aml.train(x=features, y=target, training_frame=train_h2o)\n",
    "\n",
    "# Previsões no conjunto de teste\n",
    "predictions = aml.leader.predict(test_h2o)\n",
    "\n",
    "# Avaliação do desempenho do modelo no conjunto de teste\n",
    "performance = aml.leader.model_performance(test_h2o)\n",
    "print(performance)\n"
   ]
  },
  {
   "cell_type": "code",
   "execution_count": 39,
   "metadata": {},
   "outputs": [
    {
     "name": "stdout",
     "output_type": "stream",
     "text": [
      "model_id                                                       rmse          mse     mae      rmsle    mean_residual_deviance\n",
      "GBM_3_AutoML_3_20241025_84705                           1.09448e+06  1.19788e+12  572647  nan                     1.19788e+12\n",
      "GLM_1_AutoML_3_20241025_84705                           1.09649e+06  1.2023e+12   579654    3.20975               1.2023e+12\n",
      "StackedEnsemble_BestOfFamily_1_AutoML_3_20241025_84705  1.09693e+06  1.20326e+12  586360    3.23044               1.20326e+12\n",
      "GBM_2_AutoML_3_20241025_84705                           1.10105e+06  1.21231e+12  582346  nan                     1.21231e+12\n",
      "GBM_grid_1_AutoML_3_20241025_84705_model_3              1.1021e+06   1.21462e+12  564231  nan                     1.21462e+12\n",
      "GBM_4_AutoML_3_20241025_84705                           1.103e+06    1.21661e+12  569842  nan                     1.21661e+12\n",
      "StackedEnsemble_AllModels_1_AutoML_3_20241025_84705     1.10463e+06  1.2202e+12   575250    3.1923                1.2202e+12\n",
      "DeepLearning_grid_3_AutoML_3_20241025_84705_model_1     1.11443e+06  1.24196e+12  514554  nan                     1.24196e+12\n",
      "GBM_grid_1_AutoML_3_20241025_84705_model_1              1.11545e+06  1.24422e+12  578019  nan                     1.24422e+12\n",
      "DeepLearning_grid_1_AutoML_3_20241025_84705_model_1     1.13289e+06  1.28345e+12  613464  nan                     1.28345e+12\n",
      "[17 rows x 6 columns]\n",
      "\n"
     ]
    }
   ],
   "source": [
    "# Exibe o leaderboard com todos os modelos treinados\n",
    "leaderboard = aml.leaderboard\n",
    "print(leaderboard)"
   ]
  },
  {
   "cell_type": "code",
   "execution_count": 40,
   "metadata": {},
   "outputs": [
    {
     "name": "stdout",
     "output_type": "stream",
     "text": [
      "                                             model_id          rmse  \\\n",
      "0                       GBM_3_AutoML_3_20241025_84705  1.094477e+06   \n",
      "1                       GLM_1_AutoML_3_20241025_84705  1.096493e+06   \n",
      "2   StackedEnsemble_BestOfFamily_1_AutoML_3_202410...  1.096930e+06   \n",
      "3                       GBM_2_AutoML_3_20241025_84705  1.101049e+06   \n",
      "4          GBM_grid_1_AutoML_3_20241025_84705_model_3  1.102098e+06   \n",
      "5                       GBM_4_AutoML_3_20241025_84705  1.103002e+06   \n",
      "6   StackedEnsemble_AllModels_1_AutoML_3_20241025_...  1.104629e+06   \n",
      "7   DeepLearning_grid_3_AutoML_3_20241025_84705_mo...  1.114434e+06   \n",
      "8          GBM_grid_1_AutoML_3_20241025_84705_model_1  1.115447e+06   \n",
      "9   DeepLearning_grid_1_AutoML_3_20241025_84705_mo...  1.132895e+06   \n",
      "10  DeepLearning_grid_2_AutoML_3_20241025_84705_mo...  1.134192e+06   \n",
      "11             DeepLearning_1_AutoML_3_20241025_84705  1.144891e+06   \n",
      "12                      XRT_1_AutoML_3_20241025_84705  1.148076e+06   \n",
      "13         GBM_grid_1_AutoML_3_20241025_84705_model_2  1.148622e+06   \n",
      "14                      DRF_1_AutoML_3_20241025_84705  1.152880e+06   \n",
      "15  DeepLearning_grid_1_AutoML_3_20241025_84705_mo...  1.174409e+06   \n",
      "16                      GBM_5_AutoML_3_20241025_84705  1.244152e+06   \n",
      "\n",
      "             mse            mae     rmsle  mean_residual_deviance  \n",
      "0   1.197880e+12  572647.022144       NaN            1.197880e+12  \n",
      "1   1.202297e+12  579654.490053  3.209750            1.202297e+12  \n",
      "2   1.203255e+12  586359.904137  3.230444            1.203255e+12  \n",
      "3   1.212309e+12  582345.928521       NaN            1.212309e+12  \n",
      "4   1.214621e+12  564231.197781       NaN            1.214621e+12  \n",
      "5   1.216614e+12  569842.423587       NaN            1.216614e+12  \n",
      "6   1.220205e+12  575250.389289  3.192303            1.220205e+12  \n",
      "7   1.241964e+12  514554.425131       NaN            1.241964e+12  \n",
      "8   1.244221e+12  578019.184993       NaN            1.244221e+12  \n",
      "9   1.283450e+12  613464.223057       NaN            1.283450e+12  \n",
      "10  1.286390e+12  477139.810169       NaN            1.286390e+12  \n",
      "11  1.310777e+12  612470.680121       NaN            1.310777e+12  \n",
      "12  1.318079e+12  620119.093504  3.251708            1.318079e+12  \n",
      "13  1.319333e+12  611205.956323       NaN            1.319333e+12  \n",
      "14  1.329133e+12  604605.227177  3.170157            1.329133e+12  \n",
      "15  1.379236e+12  649223.903366       NaN            1.379236e+12  \n",
      "16  1.547915e+12  650090.479384  3.220826            1.547915e+12  \n"
     ]
    },
    {
     "name": "stderr",
     "output_type": "stream",
     "text": [
      "/Users/erichenriquedasilvapassos/Downloads/Rank_My_App/.venv/lib/python3.12/site-packages/h2o/frame.py:1981: H2ODependencyWarning: Converting H2O frame to pandas dataframe using single-thread.  For faster conversion using multi-thread, install polars and pyarrow and use it as pandas_df = h2o_df.as_data_frame(use_multi_thread=True)\n",
      "\n",
      "  warnings.warn(\"Converting H2O frame to pandas dataframe using single-thread.  For faster conversion using\"\n"
     ]
    }
   ],
   "source": [
    "# Mais detalhes, como todas as colunas do leaderboard\n",
    "leaderboard_df = leaderboard.as_data_frame()\n",
    "print(leaderboard_df)"
   ]
  },
  {
   "cell_type": "code",
   "execution_count": 41,
   "metadata": {},
   "outputs": [
    {
     "name": "stdout",
     "output_type": "stream",
     "text": [
      "Model Details\n",
      "=============\n",
      "H2OGradientBoostingEstimator : Gradient Boosting Machine\n",
      "Model Key: GBM_3_AutoML_3_20241025_84705\n",
      "\n",
      "\n",
      "Model Summary: \n",
      "    number_of_trees    number_of_internal_trees    model_size_in_bytes    min_depth    max_depth    mean_depth    min_leaves    max_leaves    mean_leaves\n",
      "--  -----------------  --------------------------  ---------------------  -----------  -----------  ------------  ------------  ------------  -------------\n",
      "    23                 23                          3153                   3            6            4.08696       5             8             6.30435\n",
      "\n",
      "ModelMetricsRegression: gbm\n",
      "** Reported on train data. **\n",
      "\n",
      "MSE: 970018373876.9517\n",
      "RMSE: 984895.1080581889\n",
      "MAE: 506234.71788194444\n",
      "RMSLE: 3.01032495077279\n",
      "Mean Residual Deviance: 970018373876.9517\n",
      "\n",
      "ModelMetricsRegression: gbm\n",
      "** Reported on cross-validation data. **\n",
      "\n",
      "MSE: 1197880285571.0645\n",
      "RMSE: 1094477.174531778\n",
      "MAE: 572647.022143943\n",
      "RMSLE: NaN\n",
      "Mean Residual Deviance: 1197880285571.0645\n",
      "\n",
      "Cross-Validation Metrics Summary: \n",
      "                        mean         sd           cv_1_valid    cv_2_valid    cv_3_valid    cv_4_valid    cv_5_valid\n",
      "----------------------  -----------  -----------  ------------  ------------  ------------  ------------  ------------\n",
      "aic                     nan          0            nan           nan           nan           nan           nan\n",
      "loglikelihood           nan          0            nan           nan           nan           nan           nan\n",
      "mae                     595561       97757.9      711457        487206        534404        559613        685123\n",
      "mean_residual_deviance  1.22548e+12  5.26522e+11  2.10493e+12   6.89526e+11   1.04777e+12   1.10451e+12   1.18068e+12\n",
      "mse                     1.22548e+12  5.26522e+11  2.10493e+12   6.89526e+11   1.04777e+12   1.10451e+12   1.18068e+12\n",
      "r2                      -0.0256639   0.0507613    -0.01767      -0.00121205   -0.0376123    0.0322498     -0.104075\n",
      "residual_deviance       1.22548e+12  5.26522e+11  2.10493e+12   6.89526e+11   1.04777e+12   1.10451e+12   1.18068e+12\n",
      "rmse                    1.08847e+06  225577       1.45084e+06   830377        1.02361e+06   1.05096e+06   1.08659e+06\n",
      "rmsle                   2.50534      0            2.50534       nan           nan           nan           nan\n",
      "\n",
      "Scoring History: \n",
      "    timestamp            duration    number_of_trees    training_rmse    training_mae    training_deviance\n",
      "--  -------------------  ----------  -----------------  ---------------  --------------  -------------------\n",
      "    2024-10-25 08:47:06  0.141 sec   0                  1.0935e+06       577423          1.19575e+12\n",
      "    2024-10-25 08:47:06  0.160 sec   5                  1.05527e+06      556291          1.1136e+12\n",
      "    2024-10-25 08:47:06  0.171 sec   10                 1.03569e+06      524621          1.07266e+12\n",
      "    2024-10-25 08:47:06  0.180 sec   15                 1.01641e+06      527630          1.03309e+12\n",
      "    2024-10-25 08:47:06  0.185 sec   20                 998611           516448          9.97225e+11\n",
      "    2024-10-25 08:47:06  0.188 sec   23                 984895           506235          9.70018e+11\n",
      "\n",
      "Variable Importances: \n",
      "variable                       relative_importance    scaled_importance    percentage\n",
      "-----------------------------  ---------------------  -------------------  ------------\n",
      "predictionLoss_desinstalacoes  3.43238e+13            1                    0.205123\n",
      "daily_reviews_ratings_reviews  3.29891e+13            0.961113             0.197147\n",
      "mauReal_daumau                 2.92892e+13            0.853319             0.175036\n",
      "daily_ratings_ratings_reviews  1.88606e+13            0.549489             0.112713\n",
      "category_FINANCE               1.4744e+13             0.429557             0.088112\n",
      "reviews_ratings_reviews        1.33004e+13            0.387498             0.0794849\n",
      "newinstalls_installs           8.36796e+12            0.243794             0.0500079\n",
      "ratings_ratings_reviews        7.81278e+12            0.22762              0.0466901\n",
      "category_OTHERS                5.16077e+12            0.150355             0.0308414\n",
      "category_FOOD_AND_DRINK        1.80246e+12            0.0525134            0.0107717\n",
      "category_SHOPPING              6.81696e+11            0.0198607            0.00407389\n",
      "category_BUSINESS              0                      0                    0\n",
      "category_TRAVEL_AND_LOCAL      0                      0                    0\n",
      "{'model_id': {'default': None, 'actual': {'__meta': {'schema_version': 3, 'schema_name': 'ModelKeyV3', 'schema_type': 'Key<Model>'}, 'name': 'GBM_3_AutoML_3_20241025_84705', 'type': 'Key<Model>', 'URL': '/3/Models/GBM_3_AutoML_3_20241025_84705'}, 'input': None}, 'training_frame': {'default': None, 'actual': {'__meta': {'schema_version': 3, 'schema_name': 'FrameKeyV3', 'schema_type': 'Key<Frame>'}, 'name': 'AutoML_3_20241025_84705_training_Key_Frame__upload_80434e0a40f1cace4029adc46e55470f.hex', 'type': 'Key<Frame>', 'URL': '/3/Frames/AutoML_3_20241025_84705_training_Key_Frame__upload_80434e0a40f1cace4029adc46e55470f.hex'}, 'input': {'__meta': {'schema_version': 3, 'schema_name': 'FrameKeyV3', 'schema_type': 'Key<Frame>'}, 'name': 'AutoML_3_20241025_84705_training_Key_Frame__upload_80434e0a40f1cace4029adc46e55470f.hex', 'type': 'Key<Frame>', 'URL': '/3/Frames/AutoML_3_20241025_84705_training_Key_Frame__upload_80434e0a40f1cace4029adc46e55470f.hex'}}, 'validation_frame': {'default': None, 'actual': None, 'input': None}, 'nfolds': {'default': 0, 'actual': 5, 'input': 5}, 'keep_cross_validation_models': {'default': True, 'actual': False, 'input': False}, 'keep_cross_validation_predictions': {'default': False, 'actual': True, 'input': True}, 'keep_cross_validation_fold_assignment': {'default': False, 'actual': False, 'input': False}, 'score_each_iteration': {'default': False, 'actual': False, 'input': False}, 'score_tree_interval': {'default': 0, 'actual': 5, 'input': 5}, 'fold_assignment': {'default': 'AUTO', 'actual': 'Modulo', 'input': 'Modulo'}, 'fold_column': {'default': None, 'actual': None, 'input': None}, 'response_column': {'default': None, 'actual': {'__meta': {'schema_version': 3, 'schema_name': 'ColSpecifierV3', 'schema_type': 'VecSpecifier'}, 'column_name': 'dauReal_daumau', 'is_member_of_frames': None}, 'input': {'__meta': {'schema_version': 3, 'schema_name': 'ColSpecifierV3', 'schema_type': 'VecSpecifier'}, 'column_name': 'dauReal_daumau', 'is_member_of_frames': None}}, 'ignored_columns': {'default': None, 'actual': [], 'input': []}, 'ignore_const_cols': {'default': True, 'actual': True, 'input': True}, 'offset_column': {'default': None, 'actual': None, 'input': None}, 'weights_column': {'default': None, 'actual': None, 'input': None}, 'balance_classes': {'default': False, 'actual': False, 'input': False}, 'class_sampling_factors': {'default': None, 'actual': None, 'input': None}, 'max_after_balance_size': {'default': 5.0, 'actual': 5.0, 'input': 5.0}, 'max_confusion_matrix_size': {'default': 20, 'actual': 20, 'input': 20}, 'ntrees': {'default': 50, 'actual': 23, 'input': 10000}, 'max_depth': {'default': 5, 'actual': 8, 'input': 8}, 'min_rows': {'default': 10.0, 'actual': 10.0, 'input': 10.0}, 'nbins': {'default': 20, 'actual': 20, 'input': 20}, 'nbins_top_level': {'default': 1024, 'actual': 1024, 'input': 1024}, 'nbins_cats': {'default': 1024, 'actual': 1024, 'input': 1024}, 'r2_stopping': {'default': 1.7976931348623157e+308, 'actual': 1.7976931348623157e+308, 'input': 1.7976931348623157e+308}, 'stopping_rounds': {'default': 0, 'actual': 0, 'input': 3}, 'stopping_metric': {'default': 'AUTO', 'actual': 'deviance', 'input': 'deviance'}, 'stopping_tolerance': {'default': 0.001, 'actual': 0.05, 'input': 0.05}, 'max_runtime_secs': {'default': 0.0, 'actual': 0.0, 'input': 0.0}, 'seed': {'default': -1, 'actual': 5, 'input': 5}, 'build_tree_one_node': {'default': False, 'actual': False, 'input': False}, 'learn_rate': {'default': 0.1, 'actual': 0.1, 'input': 0.1}, 'learn_rate_annealing': {'default': 1.0, 'actual': 1.0, 'input': 1.0}, 'distribution': {'default': 'AUTO', 'actual': 'gaussian', 'input': 'gaussian'}, 'quantile_alpha': {'default': 0.5, 'actual': 0.5, 'input': 0.5}, 'tweedie_power': {'default': 1.5, 'actual': 1.5, 'input': 1.5}, 'huber_alpha': {'default': 0.9, 'actual': 0.9, 'input': 0.9}, 'checkpoint': {'default': None, 'actual': None, 'input': None}, 'sample_rate': {'default': 1.0, 'actual': 0.8, 'input': 0.8}, 'sample_rate_per_class': {'default': None, 'actual': None, 'input': None}, 'col_sample_rate': {'default': 1.0, 'actual': 0.8, 'input': 0.8}, 'col_sample_rate_change_per_level': {'default': 1.0, 'actual': 1.0, 'input': 1.0}, 'col_sample_rate_per_tree': {'default': 1.0, 'actual': 0.8, 'input': 0.8}, 'min_split_improvement': {'default': 1e-05, 'actual': 1e-05, 'input': 1e-05}, 'histogram_type': {'default': 'AUTO', 'actual': 'UniformAdaptive', 'input': 'AUTO'}, 'max_abs_leafnode_pred': {'default': 1.7976931348623157e+308, 'actual': 1.7976931348623157e+308, 'input': 1.7976931348623157e+308}, 'pred_noise_bandwidth': {'default': 0.0, 'actual': 0.0, 'input': 0.0}, 'categorical_encoding': {'default': 'AUTO', 'actual': 'Enum', 'input': 'AUTO'}, 'calibrate_model': {'default': False, 'actual': False, 'input': False}, 'calibration_frame': {'default': None, 'actual': None, 'input': None}, 'calibration_method': {'default': 'AUTO', 'actual': 'PlattScaling', 'input': 'AUTO'}, 'custom_metric_func': {'default': None, 'actual': None, 'input': None}, 'custom_distribution_func': {'default': None, 'actual': None, 'input': None}, 'export_checkpoints_dir': {'default': None, 'actual': None, 'input': None}, 'in_training_checkpoints_dir': {'default': None, 'actual': None, 'input': None}, 'in_training_checkpoints_tree_interval': {'default': 1, 'actual': 1, 'input': 1}, 'monotone_constraints': {'default': None, 'actual': None, 'input': None}, 'check_constant_response': {'default': True, 'actual': True, 'input': True}, 'gainslift_bins': {'default': -1, 'actual': -1, 'input': -1}, 'auc_type': {'default': 'AUTO', 'actual': 'AUTO', 'input': 'AUTO'}, 'interaction_constraints': {'default': None, 'actual': None, 'input': None}, 'auto_rebalance': {'default': True, 'actual': True, 'input': True}}\n"
     ]
    }
   ],
   "source": [
    "# O melhor modelo\n",
    "best_model = aml.leader\n",
    "print(best_model)\n",
    "\n",
    "# Detalhes do modelo\n",
    "print(best_model.params)\n"
   ]
  },
  {
   "cell_type": "code",
   "execution_count": 42,
   "metadata": {},
   "outputs": [
    {
     "name": "stdout",
     "output_type": "stream",
     "text": [
      "RMSE: 984895.1080581889\n",
      "MAE: 506234.71788194444\n",
      "MSE: 970018373876.9517\n",
      "R²: 0.18877879293250555\n"
     ]
    }
   ],
   "source": [
    "# Extraindo as métricas de desempenho\n",
    "perf = best_model.model_performance()\n",
    "\n",
    "# Acessando as métricas específicas\n",
    "rmse = perf.rmse()\n",
    "mae = perf.mae()\n",
    "mse = perf.mse()\n",
    "r2 = perf.r2()\n",
    "\n",
    "# Exibindo as métricas\n",
    "print(f\"RMSE: {rmse}\")\n",
    "print(f\"MAE: {mae}\")\n",
    "print(f\"MSE: {mse}\")\n",
    "print(f\"R²: {r2}\")\n"
   ]
  },
  {
   "cell_type": "code",
   "execution_count": 43,
   "metadata": {},
   "outputs": [],
   "source": [
    "# Importância das features\n",
    "feature_importance = best_model.varimp(use_pandas=True)\n",
    "#print(feature_importance)\n"
   ]
  },
  {
   "cell_type": "code",
   "execution_count": 44,
   "metadata": {},
   "outputs": [
    {
     "data": {
      "image/png": "[encoded data removed]",
      "text/plain": [
       "<Figure size 1200x800 with 1 Axes>"
      ]
     },
     "metadata": {},
     "output_type": "display_data"
    }
   ],
   "source": [
    "import matplotlib.pyplot as plt\n",
    "import seaborn as sns\n",
    "\n",
    "# Plot de Importância das Features\n",
    "plt.figure(figsize=(12, 8))\n",
    "sns.barplot(x='percentage', y='variable', data=feature_importance)\n",
    "plt.title('Feature Importance')\n",
    "plt.xlabel('Importance')\n",
    "plt.ylabel('Features')\n",
    "plt.show()\n"
   ]
  },
  {
   "cell_type": "code",
   "execution_count": 47,
   "metadata": {},
   "outputs": [
    {
     "data": {
      "text/plain": [
       "'/Users/erichenriquedasilvapassos/Downloads/Rank_My_App/models/GBM_3_AutoML_3_20241025_84705'"
      ]
     },
     "execution_count": 47,
     "metadata": {},
     "output_type": "execute_result"
    }
   ],
   "source": [
    "\n",
    "# Salvar o modelo H2O\n",
    "#h2o.save_model(model=best_model, path='/Users/erichenriquedasilvapassos/Downloads/Rank_My_App/models/', force=True)\n"
   ]
  },
  {
   "cell_type": "code",
   "execution_count": 51,
   "metadata": {},
   "outputs": [],
   "source": [
    "\n",
    "# Configurações\n",
    "model_params = {\n",
    "    'model_id': best_model.model_id,\n",
    "    'model_parameters': best_model.params,\n",
    "    'training_frame': best_model.training_frame\n",
    "}\n",
    "\n",
    "# Salvar com pickle\n",
    "with open('/Users/erichenriquedasilvapassos/Downloads/Rank_My_App/models/pkl_model.pkl', 'wb') as f:\n",
    "    pickle.dump(model_params, f)\n"
   ]
  },
  {
   "cell_type": "markdown",
   "metadata": {},
   "source": [
    "\n",
    "# Sobre os resultados:\n",
    "- Olhando apenas para o R² de 0.1888 podemos concluir que;\n",
    "um R² de 0.1888 é relativamente baixo. Isso significa que apenas cerca de 18.88% da variabilidade dos dados pode ser explicada pelo modelo. Em geral, um R² abaixo de 0.2 é considerado um sinal de que o modelo não está capturando bem a relação entre as variáveis preditoras e a variável alvo. Isso pode indicar que o modelo não é adequado ou que faltam variáveis importantes."
   ]
  },
  {
   "cell_type": "markdown",
   "metadata": {},
   "source": []
  }
 ],
 "metadata": {
  "kernelspec": {
   "display_name": ".venv",
   "language": "python",
   "name": "python3"
  },
  "language_info": {
   "codemirror_mode": {
    "name": "ipython",
    "version": 3
   },
   "file_extension": ".py",
   "mimetype": "text/x-python",
   "name": "python",
   "nbconvert_exporter": "python",
   "pygments_lexer": "ipython3",
   "version": "3.12.4"
  }
 },
 "nbformat": 4,
 "nbformat_minor": 2
}
